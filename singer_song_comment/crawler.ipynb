{
 "cells": [
  {
   "cell_type": "markdown",
   "metadata": {},
   "source": [
    "参考：https://blog.csdn.net/Monkey_D_Newdun/article/details/79318629"
   ]
  },
  {
   "cell_type": "markdown",
   "metadata": {},
   "source": [
    "# 1. 爬取歌曲评论数"
   ]
  },
  {
   "cell_type": "markdown",
   "metadata": {},
   "source": [
    "打开热门歌曲页面，进入到一首歌曲的详细页面，可以看到歌曲的ID，比如《纸短情长（完整版）》的ID是516076896，直接尝试使用BeautifulSoup对链接“http://music.163.com/#/song?id=516076896” 进行解析，发现找不到评论信息。这是因为网易对评论数据采取的是异步传输，所以不能直接通过解析网页内容得到评论数据。打开开发者工具观察,发现奥秘在一个名为“R_SO_4_516076896”的POST请求中。其中R_SO_4_后面的数字516076896为当前歌曲的ID，再观察所上传数据可以看到这里上传了两个参数：params、encSecKey,经过测试发现两个参数对每首歌都是通用的。也就是说将上面链接的歌曲ID替换后传入该参数也能获得数据。再观察服务器所返回的数据可知评论数保存在“total”中（total在“预览”的最后）,其中“comments”存的是评论内容，“hotComments”存的是热门评论内容，如果想扒一扒评论内容就可以从这里获取。注意这些是JSON数据，到时候要解析一下。"
   ]
  },
  {
   "cell_type": "code",
   "execution_count": 1,
   "metadata": {},
   "outputs": [
    {
     "name": "stdout",
     "output_type": "stream",
     "text": [
      "152564\n"
     ]
    }
   ],
   "source": [
    "from urllib import request  \n",
    "from bs4 import BeautifulSoup  \n",
    "import requests  \n",
    "import json  \n",
    "import re  \n",
    "from urllib import parse  \n",
    "  \n",
    "headers = {\"User-Agent\": \"Mozilla/5.0 (Macintosh; Intel Mac OS X 10_13_4) AppleWebKit/605.1.15 (KHTML, like Gecko) Version/11.1 Safari/605.1.15\"}  \n",
    "  \n",
    "def comment_count(song_id):  \n",
    "    url=\"http://music.163.com/weapi/v1/resource/comments/R_SO_4_\"+song_id+\"?csrf_token=\"  \n",
    "    data = {  \n",
    "        \"params\": \"j3X2DhLnQqVCgm6VJGe4OT/eQQvjWqPFPmIpAi0lZJGq8hAoELgnjUBBiOqlVx1DvozvOSWr/xkBGosm5lZOIAgioQMQhU77tUibYkOYqJ55sK2c9yBCM5ZkHtBSfAbPb3RBCg4Ps8XNZTGTcw3obZs5l3vQQQLlBVP8jBDTqVBsLLR5gWUzz5x/wnqrLnmq\",  \n",
    "        \"encSecKey\": \"8547739fd6a23087e9b63e003646f65471e9bae3854852f486e28899ba2a556792312d788e9fbf121bceb77c90abf432b38d21f4c157c980616b65c31e9b1f7a8a0eda737296125f5a3d1cb2d660671818636ef7c9543a97cb76f3cddf5d6ebc9d090cda5d60719b1d16d30a6f656a321bd9d491486d6d8e549b7ae2af8b74ba\"}  \n",
    "    #用requests.post()解析这个POST\n",
    "    req=requests.post(url=url,headers=headers,data=data)  \n",
    "    req.encoding=\"utf-8\"  \n",
    "    comment= json.loads(req.text)  \n",
    "    return comment[\"total\"]  \n",
    "  \n",
    "if __name__==\"__main__\":  \n",
    "    print(comment_count(\"516076896\"))  "
   ]
  },
  {
   "cell_type": "markdown",
   "metadata": {},
   "source": [
    "# 2. 爬取热门歌手ID"
   ]
  },
  {
   "cell_type": "markdown",
   "metadata": {},
   "source": [
    "打开热门歌手页面，歌手信息这里也是采取的异步传输，同样打开Chrome开发者工具观察网页结构，发现奥秘在一个名为“top”的POST请求中。经过测试发现这个POST需要传入完整的Headers（在“标头”中）,不然得不到反馈，但要把“Accept-Encoding:gzip,deflate”去掉，不然到时候解码会报错。这个POST需要传入的数据参数和之前是一样，也是“params”和“encSecKey”两个（也是在“标头”中查看），再观察返回的JSON数据就可以找到歌手的ID和姓名等详细信息了。这次换种方法解析这个POST，不用requests.post()，而用Request+urlopen,虽然麻烦点但是两种方法都熟悉一下。"
   ]
  },
  {
   "cell_type": "code",
   "execution_count": 15,
   "metadata": {},
   "outputs": [
    {
     "name": "stdout",
     "output_type": "stream",
     "text": [
      "[{'name': '周杰伦', 'id': 6452}, {'name': '陈奕迅', 'id': 2116}, {'name': '薛之谦', 'id': 5781}, {'name': 'BIGBANG', 'id': 126339}, {'name': '林俊杰', 'id': 3684}, {'name': 'Maroon 5', 'id': 96266}, {'name': '王菲', 'id': 9621}, {'name': '李荣浩', 'id': 4292}, {'name': 'G.E.M.邓紫棋', 'id': 7763}, {'name': '张学友', 'id': 6460}, {'name': '杨宗纬', 'id': 6066}, {'name': '许巍', 'id': 5770}, {'name': '蔡健雅', 'id': 7214}, {'name': 'Adele', 'id': 46487}, {'name': 'Bruno Mars', 'id': 178059}, {'name': 'Coldplay', 'id': 89365}, {'name': 'Justin Bieber', 'id': 35531}, {'name': '陈粒', 'id': 1007170}, {'name': '孙燕姿', 'id': 9272}, {'name': '赵雷', 'id': 6731}, {'name': '李志', 'id': 3681}, {'name': '王力宏', 'id': 5346}, {'name': '好妹妹', 'id': 711683}, {'name': 'EXO', 'id': 759509}, {'name': 'Beyond', 'id': 11127}, {'name': 'Alan Walker', 'id': 1045123}, {'name': 'Fall Out Boy', 'id': 56782}, {'name': '金玟岐', 'id': 893259}, {'name': '宋冬野', 'id': 5073}, {'name': '朴树', 'id': 4721}, {'name': 'Eminem', 'id': 32665}, {'name': '李健', 'id': 3695}, {'name': 'OneRepublic', 'id': 98105}, {'name': 'Tobu', 'id': 964486}, {'name': 'Two Steps From Hell', 'id': 102714}, {'name': '陈小春', 'id': 2112}, {'name': '那英', 'id': 9061}, {'name': '莫文蔚', 'id': 8926}, {'name': '许嵩', 'id': 5771}, {'name': '苏打绿', 'id': 12707}, {'name': 'Ed Sheeran', 'id': 33184}, {'name': '谢安琪', 'id': 9952}, {'name': '杨千嬅', 'id': 10204}, {'name': '马頔', 'id': 4592}, {'name': '张国荣', 'id': 6457}, {'name': 'Charlie Puth', 'id': 90331}, {'name': '萧敬腾', 'id': 5768}, {'name': '张敬轩', 'id': 6462}, {'name': 'Wiz Khalifa', 'id': 46006}, {'name': 'Rihanna', 'id': 72724}, {'name': '张靓颖', 'id': 10561}, {'name': 'Ellie Goulding', 'id': 56598}, {'name': '张惠妹', 'id': 10559}, {'name': 'IU', 'id': 160947}, {'name': '防弹少年团', 'id': 783124}, {'name': '澤野弘之', 'id': 15290}, {'name': 'Carly Rae Jepsen', 'id': 50934}, {'name': 'G-Dragon', 'id': 123577}, {'name': '古巨基', 'id': 2849}, {'name': '五月天', 'id': 13193}]\n"
     ]
    },
    {
     "data": {
      "text/plain": [
       "[{'id': 6452, 'name': '周杰伦'},\n",
       " {'id': 2116, 'name': '陈奕迅'},\n",
       " {'id': 5781, 'name': '薛之谦'},\n",
       " {'id': 126339, 'name': 'BIGBANG'},\n",
       " {'id': 3684, 'name': '林俊杰'},\n",
       " {'id': 96266, 'name': 'Maroon 5'},\n",
       " {'id': 9621, 'name': '王菲'},\n",
       " {'id': 4292, 'name': '李荣浩'},\n",
       " {'id': 7763, 'name': 'G.E.M.邓紫棋'},\n",
       " {'id': 6460, 'name': '张学友'},\n",
       " {'id': 6066, 'name': '杨宗纬'},\n",
       " {'id': 5770, 'name': '许巍'},\n",
       " {'id': 7214, 'name': '蔡健雅'},\n",
       " {'id': 46487, 'name': 'Adele'},\n",
       " {'id': 178059, 'name': 'Bruno Mars'},\n",
       " {'id': 89365, 'name': 'Coldplay'},\n",
       " {'id': 35531, 'name': 'Justin Bieber'},\n",
       " {'id': 1007170, 'name': '陈粒'},\n",
       " {'id': 9272, 'name': '孙燕姿'},\n",
       " {'id': 6731, 'name': '赵雷'},\n",
       " {'id': 3681, 'name': '李志'},\n",
       " {'id': 5346, 'name': '王力宏'},\n",
       " {'id': 711683, 'name': '好妹妹'},\n",
       " {'id': 759509, 'name': 'EXO'},\n",
       " {'id': 11127, 'name': 'Beyond'},\n",
       " {'id': 1045123, 'name': 'Alan Walker'},\n",
       " {'id': 56782, 'name': 'Fall Out Boy'},\n",
       " {'id': 893259, 'name': '金玟岐'},\n",
       " {'id': 5073, 'name': '宋冬野'},\n",
       " {'id': 4721, 'name': '朴树'},\n",
       " {'id': 32665, 'name': 'Eminem'},\n",
       " {'id': 3695, 'name': '李健'},\n",
       " {'id': 98105, 'name': 'OneRepublic'},\n",
       " {'id': 964486, 'name': 'Tobu'},\n",
       " {'id': 102714, 'name': 'Two Steps From Hell'},\n",
       " {'id': 2112, 'name': '陈小春'},\n",
       " {'id': 9061, 'name': '那英'},\n",
       " {'id': 8926, 'name': '莫文蔚'},\n",
       " {'id': 5771, 'name': '许嵩'},\n",
       " {'id': 12707, 'name': '苏打绿'},\n",
       " {'id': 33184, 'name': 'Ed Sheeran'},\n",
       " {'id': 9952, 'name': '谢安琪'},\n",
       " {'id': 10204, 'name': '杨千嬅'},\n",
       " {'id': 4592, 'name': '马頔'},\n",
       " {'id': 6457, 'name': '张国荣'},\n",
       " {'id': 90331, 'name': 'Charlie Puth'},\n",
       " {'id': 5768, 'name': '萧敬腾'},\n",
       " {'id': 6462, 'name': '张敬轩'},\n",
       " {'id': 46006, 'name': 'Wiz Khalifa'},\n",
       " {'id': 72724, 'name': 'Rihanna'},\n",
       " {'id': 10561, 'name': '张靓颖'},\n",
       " {'id': 56598, 'name': 'Ellie Goulding'},\n",
       " {'id': 10559, 'name': '张惠妹'},\n",
       " {'id': 160947, 'name': 'IU'},\n",
       " {'id': 783124, 'name': '防弹少年团'},\n",
       " {'id': 15290, 'name': '澤野弘之'},\n",
       " {'id': 50934, 'name': 'Carly Rae Jepsen'},\n",
       " {'id': 123577, 'name': 'G-Dragon'},\n",
       " {'id': 2849, 'name': '古巨基'},\n",
       " {'id': 13193, 'name': '五月天'}]"
      ]
     },
     "execution_count": 15,
     "metadata": {},
     "output_type": "execute_result"
    }
   ],
   "source": [
    "from urllib import request  \n",
    "from bs4 import BeautifulSoup  \n",
    "import requests  \n",
    "import json  \n",
    "import re  \n",
    "from urllib import parse  \n",
    "  \n",
    "a_headers = {\"User-Agent\": \"Mozilla/5.0 (Macintosh; Intel Mac OS X 10_13_4) AppleWebKit/605.1.15 (KHTML, like Gecko) Version/11.1 Safari/605.1.15\"  \n",
    "           ,\"Referer\": \"http://music.163.com/discover/artist\"  \n",
    "           ,\"Origin\": \"http://music.163.com\"  \n",
    "           ,\"Host\":\"music.163.com\"  \n",
    "           ,\"Cookie\":\"__utma=94650624.524401346.1510795658.1524743844.1524747113.5; __utmb=94650624.37.10.1524747113; __utmc=94650624; __utmz=94650624.1512478395.2.2.utmcsr=baidu|utmccn=(organic)|utmcmd=organic; JSESSIONID-WYYY=vuk1mFto7DT8F7T6Xks5jZIOI85%2FzTYeHVA%2BWmHD8Zvtiy7FpacVO%5CNpwi%2BVl6U2FRgwUS1bsXgJfU8nrax8zWUxPhBHH8FcfTZjTIxNsY%2FYKivRq22jl65Veqgm0%2BOMiUfmCzxAbMx%2B1UxMqxoUFX1i%2B2kyaGYsfNY%2F1fUw%2FZ32WN7S%3A1524750868394; _iuqxldmzr_=32; WM_TID=Y4lloxguEnAGAGsQVYpDIq4rsdf8OYWU; vinfo_n_f_l_n3=dfacc2c3dca3a054.1.4.1510645015480.1521790673505.1523978281247; vjlast=1510645015.1523978266.12; P_INFO=m13242807107_1@163.com|1523502779|0|urs|00&99|gud&1523163396&mobilemail#gud&440100#10#0#0|&0|mobilemail|m13242807107_1@163.com; _ngd_tid=egOaatuziU0o2o48waZBb5Vs4aFi9Jdp; _ga=GA1.2.463885733.1512733624; __utma=187553192.463885733.1512733624.1514088297.1514088297.1; __utmz=187553192.1514088297.1.1.utmcsr=v.163.com|utmccn=(referral)|utmcmd=referral|utmcct=/special/positivepsychology/; usertrack=ezq0ploqe7Vn9foqB0vDAg==; __gads=ID=e1adaae4fa733fc5:T=1510645013:S=ALNI_Mbq4QIdknEUszE2GBe5Wm7F-nGfXw; _ntes_nnid=70d1039a4031d0bef3e8642d7ac4e310,1510645015721; _ntes_nuid=70d1039a4031d0bef3e8642d7ac4e310; vjuids=789ce4376.15fb975a390.0.b01d3e022c1008; UM_distinctid=15fb9759f315bc-0da7d9adbd6397-6c2c2e4b-fa000-15fb9759f324ab\"  \n",
    "           ,\"Content-Type\":\"application/x-www-form-urlencoded\"  \n",
    "           ,\"Content-Length\":\"412\"  \n",
    "           ,\"Connection\":\"keep-alive\"  \n",
    "           ,\"Accept-Language\":\"zh-cn\"  \n",
    "           ,\"Accept\":\"*/*\"}  \n",
    "  \n",
    "def artist_id():  \n",
    "    url=\"http://music.163.com/weapi/artist/top?csrf_token=\"  \n",
    "    data={\"params\":\"q1njkyEPDrJ+FJZzXB7YHkz1+CG29aJAXnlSVERxZjF2pcZkUgeRQD7mYQGB2NEvuirDrX/p+Yc4xhadtCFo/XuXZLsr0a8NlYf2Nsxs0TB1hfWc9zRtEa8smECMxbpN\",  \n",
    "          \"encSecKey\":\"d3df887c50dffc6d09a71abe9fd76d1bc4065e44315609c4feec16fd14707eb2ec67acb75c8093150c95f199832dd38f5528ae805d6b29db8f485435a3a7117dad0cfe6fe327f13c88cbbae9ceebdd9378d375ecbcbdca89fb8f82dd26a5b7281fe1cee68dfd9486636fd217f8eaeb34080131a6acd9586d19aa36386708c9e6\"}  \n",
    "    #这次不用requests.post()，而用Requests和urlopen解析歌手页面的POST，虽然麻烦点但是两种方法都熟悉一下。\n",
    "    post_data = parse.urlencode(data).encode(\"utf-8\")  \n",
    "    req=request.Request(url=url,headers=a_headers)  \n",
    "    res=request.urlopen(req,post_data)  \n",
    "    html=res.read().decode(\"utf-8\")  \n",
    "    #解析所返回的JSON数据  \n",
    "    a_data=json.loads(html)  \n",
    "    a_list=a_data[\"artists\"]#刚刚观察返回数据可以知道歌手的信息储存在artists键中  \n",
    "    id_list=[]#用一个列表储存所有歌手的id和name  \n",
    "    for i in range(len(a_list)):  \n",
    "        a_dict = {}#用一个字典储存一个歌手的id和name  \n",
    "        a_dict[\"name\"]=a_list[i][\"name\"]  \n",
    "        a_dict[\"id\"]=a_list[i][\"id\"]  \n",
    "        id_list.append(a_dict)  \n",
    "    return id_list  \n",
    "  \n",
    "if __name__==\"__main__\":  \n",
    "    print(artist_id())  \n",
    "\n",
    "type(artist_id())\n",
    "artist_id()"
   ]
  },
  {
   "cell_type": "markdown",
   "metadata": {},
   "source": [
    "artist_id是一个函数（上面自己定义的），而artist_id( )是一个list。得到了所有歌手的姓名和ID，并且储存在一个列表中，之后会用到歌手的ID爬取歌曲信息"
   ]
  },
  {
   "cell_type": "markdown",
   "metadata": {},
   "source": [
    "# 3. 爬取歌手热门单曲ID"
   ]
  },
  {
   "cell_type": "markdown",
   "metadata": {},
   "source": [
    "首先观察一个歌手的详情页面（如周杰伦），地址栏的id参数就决定歌手页面，我们就爬取热门50单曲的评论信息。这是尝试对页面“http://music.163.com/#/artist?id=6452” 进行解析，发现还是找不到歌曲信息（真是醉了，大公司做项目果然严谨）。打开开发者工具找找玄机，发现有些信息是通过“http://music.163.com/artist?id=6452” （这尼玛少了个#号）（名为artist的POST请求的“标头”里的URL）GET请求发回来的。在返回的数据中还要仔细找一找，可以看到这50首歌曲的信息是储存在class=\"f-hide\"的《ul》标签里。每首歌的信息（ID和歌名）在<a>标签中可以找到。所以用BeautifulSoup对 “http://music.163.com/artist?id=歌手Id” 进行解析，再用find_all(\"ul\",class_=\"f-hide\")就可以找到歌曲信息了"
   ]
  },
  {
   "cell_type": "code",
   "execution_count": 25,
   "metadata": {},
   "outputs": [
    {
     "name": "stdout",
     "output_type": "stream",
     "text": [
      "['298317', '210049', '5268423', '536570450', '255020', '210062', '298101', '406346416', '288382', '29808783', '34167344', '288750', '288371', '288820', '462853756', '185667', '185615', '185668', '185616', '185670', '185617', '185672', '185676', '185678', '185680', '185686', '185692', '185694', '185697', '185699', '185701', '185868', '185705', '185613', '185666', '185614', '185618', '185674', '185619', '185620', '185621', '185622', '185644', '185684', '185623', '185696', '185698', '185863', '185703', '185872']\n",
      "['屋顶', '布拉格广场', '手牵手', '魔术与歌曲：告白气球', '刀马旦', '骑士精神', '祝我生日快乐 (Live)', '海盗', '康定情歌', '夜店咖', '眼泪成诗(Live)', '山歌好比春江水.多谢了(Live)', '黄浦江深', '结尾曲-友谊地久天长(Live)', '可爱小公举', '说了再见', 'Mine Mine', '烟花易冷', '公主病', '好久不见', '你好吗', '雨下一整晚', '我落泪 情绪零碎', '爱的飞行日记', '自导自演', '超人不会飞', '龙战骑士', '给我一首歌的时间', '花海', '说好的幸福呢', '兰亭序', '不能说的秘密', '时光机', '惊叹号', '跨时代', '迷魂曲', '疗伤烧肉粽', '嘻哈空姐', '琴伤', '水手怕水', '世界未末日', '皮影戏', '你是我的OK绷 (Live)', '免费教学录像带', '超跑女神', '蛇舞', '魔术先生', 'Secret (加长快板)', '流浪诗人', '黄金甲']\n"
     ]
    }
   ],
   "source": [
    "from urllib import request  \n",
    "from bs4 import BeautifulSoup  \n",
    "import requests  \n",
    "import json  \n",
    "import re  \n",
    "from urllib import parse\n",
    "import lxml\n",
    "  \n",
    "s_url=\"http://music.163.com/artist\"  #这个网页之所以不是http://music.163.com/artist?id=6452是因为：在get请求中，允许使用params关键字，以一个字典来传递这些参数\n",
    "#get请求传递url参数，参考：https://blog.csdn.net/u013383813/article/details/76736720\n",
    "headers = {\"User-Agent\": \"Mozilla/5.0 (Windows NT 10.0; Win64; x64) AppleWebKit/537.36 (KHTML, like Gecko) Chrome/64.0.3282.140 Safari/537.36\"}  \n",
    "  \n",
    "def song_id(artist_id):  \n",
    "    data={\"id\":artist_id}#将歌手ID作为params参数传入requests.get()方法 \n",
    "    #python的字典，键必须是不可变对象，比如数，字符串，tuple，frozenset，值可以是任意可以hash化的对象，包括函数，\n",
    "    #参考：https://zhidao.baidu.com/question/517524357.html\n",
    "    #在这里data只取到排名第一的周杰伦的数据；在总体代码中可通过设置for循环来遍历所有热门歌手\n",
    "    req=requests.get(url=s_url,headers=headers,params=data)  \n",
    "    req.encoding=\"utf-8\"  \n",
    "    soup=BeautifulSoup(req.text,\"lxml\")#对返回的数据进行解析  \n",
    "    song_list=soup.find_all(\"ul\",class_=\"f-hide\")#找到class=\"f-hide\"的<ul>标签  \n",
    "    song_soup=BeautifulSoup(str(song_list),\"lxml\")#将<ul>......</ul>再解析一次，以便使用find_all()方法把所有<a>标签取出来  \n",
    "    song_list=song_soup.find_all(\"a\")  \n",
    "    id_list=[]#存歌曲ID  \n",
    "    name_list=[]#存歌名  \n",
    "    for each in song_list:  \n",
    "        s_id=each.get(\"href\")#歌曲ID在<a>标签href属性中  \n",
    "        s_name=each.string  \n",
    "        s=re.findall(r\"\\d+\",s_id)#用正则找到href中的ID  \n",
    "        id_list.append(s[0])#由于re.findall()返回的是一个列表，所以用下标将ID取出  \n",
    "        name_list.append(s_name)  \n",
    "    return id_list,name_list  \n",
    "  \n",
    "if __name__==\"__main__\":  \n",
    "    song_id_list,name_list=song_id(6452)  \n",
    "    print(song_id_list)  \n",
    "    print(name_list)  "
   ]
  },
  {
   "cell_type": "markdown",
   "metadata": {},
   "source": [
    "# 4. 总体代码（热门歌手每人的50首热门歌曲一共的评价数）"
   ]
  },
  {
   "cell_type": "markdown",
   "metadata": {},
   "source": [
    "这一步主要就是将上面三个部分的代码做一个有机整合就可以了，其实就是用两个循环"
   ]
  },
  {
   "cell_type": "code",
   "execution_count": 30,
   "metadata": {},
   "outputs": [
    {
     "name": "stdout",
     "output_type": "stream",
     "text": [
      "周杰伦网易云音乐热门歌曲总评论数：712877条\n",
      "陈奕迅网易云音乐热门歌曲总评论数：1354123条\n",
      "薛之谦网易云音乐热门歌曲总评论数：3886352条\n",
      "BIGBANG网易云音乐热门歌曲总评论数：72561条\n",
      "林俊杰网易云音乐热门歌曲总评论数：1063890条\n",
      "Maroon 5网易云音乐热门歌曲总评论数：376982条\n",
      "王菲网易云音乐热门歌曲总评论数：677836条\n"
     ]
    },
    {
     "ename": "KeyboardInterrupt",
     "evalue": "",
     "output_type": "error",
     "traceback": [
      "\u001b[0;31m---------------------------------------------------------------------------\u001b[0m",
      "\u001b[0;31mKeyboardInterrupt\u001b[0m                         Traceback (most recent call last)",
      "\u001b[0;32m<ipython-input-30-12cda8a411cb>\u001b[0m in \u001b[0;36m<module>\u001b[0;34m()\u001b[0m\n\u001b[1;32m     85\u001b[0m         \u001b[0;32mfor\u001b[0m \u001b[0mi\u001b[0m \u001b[0;32min\u001b[0m \u001b[0mrange\u001b[0m\u001b[0;34m(\u001b[0m\u001b[0mlen\u001b[0m\u001b[0;34m(\u001b[0m\u001b[0msong_id_list\u001b[0m\u001b[0;34m)\u001b[0m\u001b[0;34m)\u001b[0m\u001b[0;34m:\u001b[0m\u001b[0;34m\u001b[0m\u001b[0m\n\u001b[1;32m     86\u001b[0m             \u001b[0;32mif\u001b[0m\u001b[0;34m(\u001b[0m\u001b[0mname_list\u001b[0m\u001b[0;34m[\u001b[0m\u001b[0mi\u001b[0m\u001b[0;34m]\u001b[0m\u001b[0;34m!=\u001b[0m\u001b[0;32mNone\u001b[0m\u001b[0;34m)\u001b[0m\u001b[0;34m:\u001b[0m\u001b[0;31m#！！！这个地方一定要注意，下面会做说明\u001b[0m\u001b[0;34m\u001b[0m\u001b[0m\n\u001b[0;32m---> 87\u001b[0;31m                 \u001b[0mtotal\u001b[0m\u001b[0;34m+=\u001b[0m\u001b[0mcomment_count\u001b[0m\u001b[0;34m(\u001b[0m\u001b[0msong_id_list\u001b[0m\u001b[0;34m[\u001b[0m\u001b[0mi\u001b[0m\u001b[0;34m]\u001b[0m\u001b[0;34m)\u001b[0m\u001b[0;34m\u001b[0m\u001b[0m\n\u001b[0m\u001b[1;32m     88\u001b[0m                 \u001b[0mf\u001b[0m\u001b[0;34m.\u001b[0m\u001b[0mwrite\u001b[0m\u001b[0;34m(\u001b[0m\u001b[0mname_list\u001b[0m\u001b[0;34m[\u001b[0m\u001b[0mi\u001b[0m\u001b[0;34m]\u001b[0m\u001b[0;34m+\u001b[0m\u001b[0;34m\":\"\u001b[0m\u001b[0;34m+\u001b[0m\u001b[0mstr\u001b[0m\u001b[0;34m(\u001b[0m\u001b[0mcomment_count\u001b[0m\u001b[0;34m(\u001b[0m\u001b[0msong_id_list\u001b[0m\u001b[0;34m[\u001b[0m\u001b[0mi\u001b[0m\u001b[0;34m]\u001b[0m\u001b[0;34m)\u001b[0m\u001b[0;34m)\u001b[0m\u001b[0;34m+\u001b[0m\u001b[0;34m\"条\"\u001b[0m\u001b[0;34m)\u001b[0m\u001b[0;34m\u001b[0m\u001b[0m\n\u001b[1;32m     89\u001b[0m         \u001b[0mf\u001b[0m\u001b[0;34m.\u001b[0m\u001b[0mwrite\u001b[0m\u001b[0;34m(\u001b[0m\u001b[0;34m\"总计：\"\u001b[0m\u001b[0;34m+\u001b[0m\u001b[0mstr\u001b[0m\u001b[0;34m(\u001b[0m\u001b[0mtotal\u001b[0m\u001b[0;34m)\u001b[0m\u001b[0;34m+\u001b[0m\u001b[0;34m\"条\"\u001b[0m\u001b[0;34m)\u001b[0m\u001b[0;34m\u001b[0m\u001b[0m\n",
      "\u001b[0;32m<ipython-input-30-12cda8a411cb>\u001b[0m in \u001b[0;36mcomment_count\u001b[0;34m(song_id)\u001b[0m\n\u001b[1;32m     70\u001b[0m         \"encSecKey\": \"8547739fd6a23087e9b63e003646f65471e9bae3854852f486e28899ba2a556792312d788e9fbf121bceb77c90abf432b38d21f4c157c980616b65c31e9b1f7a8a0eda737296125f5a3d1cb2d660671818636ef7c9543a97cb76f3cddf5d6ebc9d090cda5d60719b1d16d30a6f656a321bd9d491486d6d8e549b7ae2af8b74ba\"}  \n\u001b[1;32m     71\u001b[0m     \u001b[0;31m#用requests.post()解析这个POST\u001b[0m\u001b[0;34m\u001b[0m\u001b[0;34m\u001b[0m\u001b[0m\n\u001b[0;32m---> 72\u001b[0;31m     \u001b[0mreq\u001b[0m\u001b[0;34m=\u001b[0m\u001b[0mrequests\u001b[0m\u001b[0;34m.\u001b[0m\u001b[0mpost\u001b[0m\u001b[0;34m(\u001b[0m\u001b[0murl\u001b[0m\u001b[0;34m=\u001b[0m\u001b[0murl\u001b[0m\u001b[0;34m,\u001b[0m\u001b[0mheaders\u001b[0m\u001b[0;34m=\u001b[0m\u001b[0mheaders\u001b[0m\u001b[0;34m,\u001b[0m\u001b[0mdata\u001b[0m\u001b[0;34m=\u001b[0m\u001b[0mdata\u001b[0m\u001b[0;34m)\u001b[0m\u001b[0;34m\u001b[0m\u001b[0m\n\u001b[0m\u001b[1;32m     73\u001b[0m     \u001b[0mreq\u001b[0m\u001b[0;34m.\u001b[0m\u001b[0mencoding\u001b[0m\u001b[0;34m=\u001b[0m\u001b[0;34m\"utf-8\"\u001b[0m\u001b[0;34m\u001b[0m\u001b[0m\n\u001b[1;32m     74\u001b[0m     \u001b[0mcomment\u001b[0m\u001b[0;34m=\u001b[0m \u001b[0mjson\u001b[0m\u001b[0;34m.\u001b[0m\u001b[0mloads\u001b[0m\u001b[0;34m(\u001b[0m\u001b[0mreq\u001b[0m\u001b[0;34m.\u001b[0m\u001b[0mtext\u001b[0m\u001b[0;34m)\u001b[0m\u001b[0;34m\u001b[0m\u001b[0m\n",
      "\u001b[0;32m/anaconda3/envs/python36/lib/python3.6/site-packages/requests/api.py\u001b[0m in \u001b[0;36mpost\u001b[0;34m(url, data, json, **kwargs)\u001b[0m\n\u001b[1;32m    110\u001b[0m     \"\"\"\n\u001b[1;32m    111\u001b[0m \u001b[0;34m\u001b[0m\u001b[0m\n\u001b[0;32m--> 112\u001b[0;31m     \u001b[0;32mreturn\u001b[0m \u001b[0mrequest\u001b[0m\u001b[0;34m(\u001b[0m\u001b[0;34m'post'\u001b[0m\u001b[0;34m,\u001b[0m \u001b[0murl\u001b[0m\u001b[0;34m,\u001b[0m \u001b[0mdata\u001b[0m\u001b[0;34m=\u001b[0m\u001b[0mdata\u001b[0m\u001b[0;34m,\u001b[0m \u001b[0mjson\u001b[0m\u001b[0;34m=\u001b[0m\u001b[0mjson\u001b[0m\u001b[0;34m,\u001b[0m \u001b[0;34m**\u001b[0m\u001b[0mkwargs\u001b[0m\u001b[0;34m)\u001b[0m\u001b[0;34m\u001b[0m\u001b[0m\n\u001b[0m\u001b[1;32m    113\u001b[0m \u001b[0;34m\u001b[0m\u001b[0m\n\u001b[1;32m    114\u001b[0m \u001b[0;34m\u001b[0m\u001b[0m\n",
      "\u001b[0;32m/anaconda3/envs/python36/lib/python3.6/site-packages/requests/api.py\u001b[0m in \u001b[0;36mrequest\u001b[0;34m(method, url, **kwargs)\u001b[0m\n\u001b[1;32m     56\u001b[0m     \u001b[0;31m# cases, and look like a memory leak in others.\u001b[0m\u001b[0;34m\u001b[0m\u001b[0;34m\u001b[0m\u001b[0m\n\u001b[1;32m     57\u001b[0m     \u001b[0;32mwith\u001b[0m \u001b[0msessions\u001b[0m\u001b[0;34m.\u001b[0m\u001b[0mSession\u001b[0m\u001b[0;34m(\u001b[0m\u001b[0;34m)\u001b[0m \u001b[0;32mas\u001b[0m \u001b[0msession\u001b[0m\u001b[0;34m:\u001b[0m\u001b[0;34m\u001b[0m\u001b[0m\n\u001b[0;32m---> 58\u001b[0;31m         \u001b[0;32mreturn\u001b[0m \u001b[0msession\u001b[0m\u001b[0;34m.\u001b[0m\u001b[0mrequest\u001b[0m\u001b[0;34m(\u001b[0m\u001b[0mmethod\u001b[0m\u001b[0;34m=\u001b[0m\u001b[0mmethod\u001b[0m\u001b[0;34m,\u001b[0m \u001b[0murl\u001b[0m\u001b[0;34m=\u001b[0m\u001b[0murl\u001b[0m\u001b[0;34m,\u001b[0m \u001b[0;34m**\u001b[0m\u001b[0mkwargs\u001b[0m\u001b[0;34m)\u001b[0m\u001b[0;34m\u001b[0m\u001b[0m\n\u001b[0m\u001b[1;32m     59\u001b[0m \u001b[0;34m\u001b[0m\u001b[0m\n\u001b[1;32m     60\u001b[0m \u001b[0;34m\u001b[0m\u001b[0m\n",
      "\u001b[0;32m/anaconda3/envs/python36/lib/python3.6/site-packages/requests/sessions.py\u001b[0m in \u001b[0;36mrequest\u001b[0;34m(self, method, url, params, data, headers, cookies, files, auth, timeout, allow_redirects, proxies, hooks, stream, verify, cert, json)\u001b[0m\n\u001b[1;32m    506\u001b[0m         }\n\u001b[1;32m    507\u001b[0m         \u001b[0msend_kwargs\u001b[0m\u001b[0;34m.\u001b[0m\u001b[0mupdate\u001b[0m\u001b[0;34m(\u001b[0m\u001b[0msettings\u001b[0m\u001b[0;34m)\u001b[0m\u001b[0;34m\u001b[0m\u001b[0m\n\u001b[0;32m--> 508\u001b[0;31m         \u001b[0mresp\u001b[0m \u001b[0;34m=\u001b[0m \u001b[0mself\u001b[0m\u001b[0;34m.\u001b[0m\u001b[0msend\u001b[0m\u001b[0;34m(\u001b[0m\u001b[0mprep\u001b[0m\u001b[0;34m,\u001b[0m \u001b[0;34m**\u001b[0m\u001b[0msend_kwargs\u001b[0m\u001b[0;34m)\u001b[0m\u001b[0;34m\u001b[0m\u001b[0m\n\u001b[0m\u001b[1;32m    509\u001b[0m \u001b[0;34m\u001b[0m\u001b[0m\n\u001b[1;32m    510\u001b[0m         \u001b[0;32mreturn\u001b[0m \u001b[0mresp\u001b[0m\u001b[0;34m\u001b[0m\u001b[0m\n",
      "\u001b[0;32m/anaconda3/envs/python36/lib/python3.6/site-packages/requests/sessions.py\u001b[0m in \u001b[0;36msend\u001b[0;34m(self, request, **kwargs)\u001b[0m\n\u001b[1;32m    616\u001b[0m \u001b[0;34m\u001b[0m\u001b[0m\n\u001b[1;32m    617\u001b[0m         \u001b[0;31m# Send the request\u001b[0m\u001b[0;34m\u001b[0m\u001b[0;34m\u001b[0m\u001b[0m\n\u001b[0;32m--> 618\u001b[0;31m         \u001b[0mr\u001b[0m \u001b[0;34m=\u001b[0m \u001b[0madapter\u001b[0m\u001b[0;34m.\u001b[0m\u001b[0msend\u001b[0m\u001b[0;34m(\u001b[0m\u001b[0mrequest\u001b[0m\u001b[0;34m,\u001b[0m \u001b[0;34m**\u001b[0m\u001b[0mkwargs\u001b[0m\u001b[0;34m)\u001b[0m\u001b[0;34m\u001b[0m\u001b[0m\n\u001b[0m\u001b[1;32m    619\u001b[0m \u001b[0;34m\u001b[0m\u001b[0m\n\u001b[1;32m    620\u001b[0m         \u001b[0;31m# Total elapsed time of the request (approximately)\u001b[0m\u001b[0;34m\u001b[0m\u001b[0;34m\u001b[0m\u001b[0m\n",
      "\u001b[0;32m/anaconda3/envs/python36/lib/python3.6/site-packages/requests/adapters.py\u001b[0m in \u001b[0;36msend\u001b[0;34m(self, request, stream, timeout, verify, cert, proxies)\u001b[0m\n\u001b[1;32m    438\u001b[0m                     \u001b[0mdecode_content\u001b[0m\u001b[0;34m=\u001b[0m\u001b[0;32mFalse\u001b[0m\u001b[0;34m,\u001b[0m\u001b[0;34m\u001b[0m\u001b[0m\n\u001b[1;32m    439\u001b[0m                     \u001b[0mretries\u001b[0m\u001b[0;34m=\u001b[0m\u001b[0mself\u001b[0m\u001b[0;34m.\u001b[0m\u001b[0mmax_retries\u001b[0m\u001b[0;34m,\u001b[0m\u001b[0;34m\u001b[0m\u001b[0m\n\u001b[0;32m--> 440\u001b[0;31m                     \u001b[0mtimeout\u001b[0m\u001b[0;34m=\u001b[0m\u001b[0mtimeout\u001b[0m\u001b[0;34m\u001b[0m\u001b[0m\n\u001b[0m\u001b[1;32m    441\u001b[0m                 )\n\u001b[1;32m    442\u001b[0m \u001b[0;34m\u001b[0m\u001b[0m\n",
      "\u001b[0;32m/anaconda3/envs/python36/lib/python3.6/site-packages/urllib3/connectionpool.py\u001b[0m in \u001b[0;36murlopen\u001b[0;34m(self, method, url, body, headers, retries, redirect, assert_same_host, timeout, pool_timeout, release_conn, chunked, body_pos, **response_kw)\u001b[0m\n\u001b[1;32m    599\u001b[0m                                                   \u001b[0mtimeout\u001b[0m\u001b[0;34m=\u001b[0m\u001b[0mtimeout_obj\u001b[0m\u001b[0;34m,\u001b[0m\u001b[0;34m\u001b[0m\u001b[0m\n\u001b[1;32m    600\u001b[0m                                                   \u001b[0mbody\u001b[0m\u001b[0;34m=\u001b[0m\u001b[0mbody\u001b[0m\u001b[0;34m,\u001b[0m \u001b[0mheaders\u001b[0m\u001b[0;34m=\u001b[0m\u001b[0mheaders\u001b[0m\u001b[0;34m,\u001b[0m\u001b[0;34m\u001b[0m\u001b[0m\n\u001b[0;32m--> 601\u001b[0;31m                                                   chunked=chunked)\n\u001b[0m\u001b[1;32m    602\u001b[0m \u001b[0;34m\u001b[0m\u001b[0m\n\u001b[1;32m    603\u001b[0m             \u001b[0;31m# If we're going to release the connection in ``finally:``, then\u001b[0m\u001b[0;34m\u001b[0m\u001b[0;34m\u001b[0m\u001b[0m\n",
      "\u001b[0;32m/anaconda3/envs/python36/lib/python3.6/site-packages/urllib3/connectionpool.py\u001b[0m in \u001b[0;36m_make_request\u001b[0;34m(self, conn, method, url, timeout, chunked, **httplib_request_kw)\u001b[0m\n\u001b[1;32m    355\u001b[0m             \u001b[0mconn\u001b[0m\u001b[0;34m.\u001b[0m\u001b[0mrequest_chunked\u001b[0m\u001b[0;34m(\u001b[0m\u001b[0mmethod\u001b[0m\u001b[0;34m,\u001b[0m \u001b[0murl\u001b[0m\u001b[0;34m,\u001b[0m \u001b[0;34m**\u001b[0m\u001b[0mhttplib_request_kw\u001b[0m\u001b[0;34m)\u001b[0m\u001b[0;34m\u001b[0m\u001b[0m\n\u001b[1;32m    356\u001b[0m         \u001b[0;32melse\u001b[0m\u001b[0;34m:\u001b[0m\u001b[0;34m\u001b[0m\u001b[0m\n\u001b[0;32m--> 357\u001b[0;31m             \u001b[0mconn\u001b[0m\u001b[0;34m.\u001b[0m\u001b[0mrequest\u001b[0m\u001b[0;34m(\u001b[0m\u001b[0mmethod\u001b[0m\u001b[0;34m,\u001b[0m \u001b[0murl\u001b[0m\u001b[0;34m,\u001b[0m \u001b[0;34m**\u001b[0m\u001b[0mhttplib_request_kw\u001b[0m\u001b[0;34m)\u001b[0m\u001b[0;34m\u001b[0m\u001b[0m\n\u001b[0m\u001b[1;32m    358\u001b[0m \u001b[0;34m\u001b[0m\u001b[0m\n\u001b[1;32m    359\u001b[0m         \u001b[0;31m# Reset the timeout for the recv() on the socket\u001b[0m\u001b[0;34m\u001b[0m\u001b[0;34m\u001b[0m\u001b[0m\n",
      "\u001b[0;32m/anaconda3/envs/python36/lib/python3.6/http/client.py\u001b[0m in \u001b[0;36mrequest\u001b[0;34m(self, method, url, body, headers, encode_chunked)\u001b[0m\n\u001b[1;32m   1237\u001b[0m                 encode_chunked=False):\n\u001b[1;32m   1238\u001b[0m         \u001b[0;34m\"\"\"Send a complete request to the server.\"\"\"\u001b[0m\u001b[0;34m\u001b[0m\u001b[0m\n\u001b[0;32m-> 1239\u001b[0;31m         \u001b[0mself\u001b[0m\u001b[0;34m.\u001b[0m\u001b[0m_send_request\u001b[0m\u001b[0;34m(\u001b[0m\u001b[0mmethod\u001b[0m\u001b[0;34m,\u001b[0m \u001b[0murl\u001b[0m\u001b[0;34m,\u001b[0m \u001b[0mbody\u001b[0m\u001b[0;34m,\u001b[0m \u001b[0mheaders\u001b[0m\u001b[0;34m,\u001b[0m \u001b[0mencode_chunked\u001b[0m\u001b[0;34m)\u001b[0m\u001b[0;34m\u001b[0m\u001b[0m\n\u001b[0m\u001b[1;32m   1240\u001b[0m \u001b[0;34m\u001b[0m\u001b[0m\n\u001b[1;32m   1241\u001b[0m     \u001b[0;32mdef\u001b[0m \u001b[0m_send_request\u001b[0m\u001b[0;34m(\u001b[0m\u001b[0mself\u001b[0m\u001b[0;34m,\u001b[0m \u001b[0mmethod\u001b[0m\u001b[0;34m,\u001b[0m \u001b[0murl\u001b[0m\u001b[0;34m,\u001b[0m \u001b[0mbody\u001b[0m\u001b[0;34m,\u001b[0m \u001b[0mheaders\u001b[0m\u001b[0;34m,\u001b[0m \u001b[0mencode_chunked\u001b[0m\u001b[0;34m)\u001b[0m\u001b[0;34m:\u001b[0m\u001b[0;34m\u001b[0m\u001b[0m\n",
      "\u001b[0;32m/anaconda3/envs/python36/lib/python3.6/http/client.py\u001b[0m in \u001b[0;36m_send_request\u001b[0;34m(self, method, url, body, headers, encode_chunked)\u001b[0m\n\u001b[1;32m   1283\u001b[0m             \u001b[0;31m# default charset of iso-8859-1.\u001b[0m\u001b[0;34m\u001b[0m\u001b[0;34m\u001b[0m\u001b[0m\n\u001b[1;32m   1284\u001b[0m             \u001b[0mbody\u001b[0m \u001b[0;34m=\u001b[0m \u001b[0m_encode\u001b[0m\u001b[0;34m(\u001b[0m\u001b[0mbody\u001b[0m\u001b[0;34m,\u001b[0m \u001b[0;34m'body'\u001b[0m\u001b[0;34m)\u001b[0m\u001b[0;34m\u001b[0m\u001b[0m\n\u001b[0;32m-> 1285\u001b[0;31m         \u001b[0mself\u001b[0m\u001b[0;34m.\u001b[0m\u001b[0mendheaders\u001b[0m\u001b[0;34m(\u001b[0m\u001b[0mbody\u001b[0m\u001b[0;34m,\u001b[0m \u001b[0mencode_chunked\u001b[0m\u001b[0;34m=\u001b[0m\u001b[0mencode_chunked\u001b[0m\u001b[0;34m)\u001b[0m\u001b[0;34m\u001b[0m\u001b[0m\n\u001b[0m\u001b[1;32m   1286\u001b[0m \u001b[0;34m\u001b[0m\u001b[0m\n\u001b[1;32m   1287\u001b[0m     \u001b[0;32mdef\u001b[0m \u001b[0mgetresponse\u001b[0m\u001b[0;34m(\u001b[0m\u001b[0mself\u001b[0m\u001b[0;34m)\u001b[0m\u001b[0;34m:\u001b[0m\u001b[0;34m\u001b[0m\u001b[0m\n",
      "\u001b[0;32m/anaconda3/envs/python36/lib/python3.6/http/client.py\u001b[0m in \u001b[0;36mendheaders\u001b[0;34m(self, message_body, encode_chunked)\u001b[0m\n\u001b[1;32m   1232\u001b[0m         \u001b[0;32melse\u001b[0m\u001b[0;34m:\u001b[0m\u001b[0;34m\u001b[0m\u001b[0m\n\u001b[1;32m   1233\u001b[0m             \u001b[0;32mraise\u001b[0m \u001b[0mCannotSendHeader\u001b[0m\u001b[0;34m(\u001b[0m\u001b[0;34m)\u001b[0m\u001b[0;34m\u001b[0m\u001b[0m\n\u001b[0;32m-> 1234\u001b[0;31m         \u001b[0mself\u001b[0m\u001b[0;34m.\u001b[0m\u001b[0m_send_output\u001b[0m\u001b[0;34m(\u001b[0m\u001b[0mmessage_body\u001b[0m\u001b[0;34m,\u001b[0m \u001b[0mencode_chunked\u001b[0m\u001b[0;34m=\u001b[0m\u001b[0mencode_chunked\u001b[0m\u001b[0;34m)\u001b[0m\u001b[0;34m\u001b[0m\u001b[0m\n\u001b[0m\u001b[1;32m   1235\u001b[0m \u001b[0;34m\u001b[0m\u001b[0m\n\u001b[1;32m   1236\u001b[0m     def request(self, method, url, body=None, headers={}, *,\n",
      "\u001b[0;32m/anaconda3/envs/python36/lib/python3.6/http/client.py\u001b[0m in \u001b[0;36m_send_output\u001b[0;34m(self, message_body, encode_chunked)\u001b[0m\n\u001b[1;32m   1024\u001b[0m         \u001b[0mmsg\u001b[0m \u001b[0;34m=\u001b[0m \u001b[0;34mb\"\\r\\n\"\u001b[0m\u001b[0;34m.\u001b[0m\u001b[0mjoin\u001b[0m\u001b[0;34m(\u001b[0m\u001b[0mself\u001b[0m\u001b[0;34m.\u001b[0m\u001b[0m_buffer\u001b[0m\u001b[0;34m)\u001b[0m\u001b[0;34m\u001b[0m\u001b[0m\n\u001b[1;32m   1025\u001b[0m         \u001b[0;32mdel\u001b[0m \u001b[0mself\u001b[0m\u001b[0;34m.\u001b[0m\u001b[0m_buffer\u001b[0m\u001b[0;34m[\u001b[0m\u001b[0;34m:\u001b[0m\u001b[0;34m]\u001b[0m\u001b[0;34m\u001b[0m\u001b[0m\n\u001b[0;32m-> 1026\u001b[0;31m         \u001b[0mself\u001b[0m\u001b[0;34m.\u001b[0m\u001b[0msend\u001b[0m\u001b[0;34m(\u001b[0m\u001b[0mmsg\u001b[0m\u001b[0;34m)\u001b[0m\u001b[0;34m\u001b[0m\u001b[0m\n\u001b[0m\u001b[1;32m   1027\u001b[0m \u001b[0;34m\u001b[0m\u001b[0m\n\u001b[1;32m   1028\u001b[0m         \u001b[0;32mif\u001b[0m \u001b[0mmessage_body\u001b[0m \u001b[0;32mis\u001b[0m \u001b[0;32mnot\u001b[0m \u001b[0;32mNone\u001b[0m\u001b[0;34m:\u001b[0m\u001b[0;34m\u001b[0m\u001b[0m\n",
      "\u001b[0;32m/anaconda3/envs/python36/lib/python3.6/http/client.py\u001b[0m in \u001b[0;36msend\u001b[0;34m(self, data)\u001b[0m\n\u001b[1;32m    962\u001b[0m         \u001b[0;32mif\u001b[0m \u001b[0mself\u001b[0m\u001b[0;34m.\u001b[0m\u001b[0msock\u001b[0m \u001b[0;32mis\u001b[0m \u001b[0;32mNone\u001b[0m\u001b[0;34m:\u001b[0m\u001b[0;34m\u001b[0m\u001b[0m\n\u001b[1;32m    963\u001b[0m             \u001b[0;32mif\u001b[0m \u001b[0mself\u001b[0m\u001b[0;34m.\u001b[0m\u001b[0mauto_open\u001b[0m\u001b[0;34m:\u001b[0m\u001b[0;34m\u001b[0m\u001b[0m\n\u001b[0;32m--> 964\u001b[0;31m                 \u001b[0mself\u001b[0m\u001b[0;34m.\u001b[0m\u001b[0mconnect\u001b[0m\u001b[0;34m(\u001b[0m\u001b[0;34m)\u001b[0m\u001b[0;34m\u001b[0m\u001b[0m\n\u001b[0m\u001b[1;32m    965\u001b[0m             \u001b[0;32melse\u001b[0m\u001b[0;34m:\u001b[0m\u001b[0;34m\u001b[0m\u001b[0m\n\u001b[1;32m    966\u001b[0m                 \u001b[0;32mraise\u001b[0m \u001b[0mNotConnected\u001b[0m\u001b[0;34m(\u001b[0m\u001b[0;34m)\u001b[0m\u001b[0;34m\u001b[0m\u001b[0m\n",
      "\u001b[0;32m/anaconda3/envs/python36/lib/python3.6/site-packages/urllib3/connection.py\u001b[0m in \u001b[0;36mconnect\u001b[0;34m(self)\u001b[0m\n\u001b[1;32m    164\u001b[0m \u001b[0;34m\u001b[0m\u001b[0m\n\u001b[1;32m    165\u001b[0m     \u001b[0;32mdef\u001b[0m \u001b[0mconnect\u001b[0m\u001b[0;34m(\u001b[0m\u001b[0mself\u001b[0m\u001b[0;34m)\u001b[0m\u001b[0;34m:\u001b[0m\u001b[0;34m\u001b[0m\u001b[0m\n\u001b[0;32m--> 166\u001b[0;31m         \u001b[0mconn\u001b[0m \u001b[0;34m=\u001b[0m \u001b[0mself\u001b[0m\u001b[0;34m.\u001b[0m\u001b[0m_new_conn\u001b[0m\u001b[0;34m(\u001b[0m\u001b[0;34m)\u001b[0m\u001b[0;34m\u001b[0m\u001b[0m\n\u001b[0m\u001b[1;32m    167\u001b[0m         \u001b[0mself\u001b[0m\u001b[0;34m.\u001b[0m\u001b[0m_prepare_conn\u001b[0m\u001b[0;34m(\u001b[0m\u001b[0mconn\u001b[0m\u001b[0;34m)\u001b[0m\u001b[0;34m\u001b[0m\u001b[0m\n\u001b[1;32m    168\u001b[0m \u001b[0;34m\u001b[0m\u001b[0m\n",
      "\u001b[0;32m/anaconda3/envs/python36/lib/python3.6/site-packages/urllib3/connection.py\u001b[0m in \u001b[0;36m_new_conn\u001b[0;34m(self)\u001b[0m\n\u001b[1;32m    139\u001b[0m         \u001b[0;32mtry\u001b[0m\u001b[0;34m:\u001b[0m\u001b[0;34m\u001b[0m\u001b[0m\n\u001b[1;32m    140\u001b[0m             conn = connection.create_connection(\n\u001b[0;32m--> 141\u001b[0;31m                 (self.host, self.port), self.timeout, **extra_kw)\n\u001b[0m\u001b[1;32m    142\u001b[0m \u001b[0;34m\u001b[0m\u001b[0m\n\u001b[1;32m    143\u001b[0m         \u001b[0;32mexcept\u001b[0m \u001b[0mSocketTimeout\u001b[0m \u001b[0;32mas\u001b[0m \u001b[0me\u001b[0m\u001b[0;34m:\u001b[0m\u001b[0;34m\u001b[0m\u001b[0m\n",
      "\u001b[0;32m/anaconda3/envs/python36/lib/python3.6/site-packages/urllib3/util/connection.py\u001b[0m in \u001b[0;36mcreate_connection\u001b[0;34m(address, timeout, source_address, socket_options)\u001b[0m\n\u001b[1;32m     71\u001b[0m             \u001b[0;32mif\u001b[0m \u001b[0msource_address\u001b[0m\u001b[0;34m:\u001b[0m\u001b[0;34m\u001b[0m\u001b[0m\n\u001b[1;32m     72\u001b[0m                 \u001b[0msock\u001b[0m\u001b[0;34m.\u001b[0m\u001b[0mbind\u001b[0m\u001b[0;34m(\u001b[0m\u001b[0msource_address\u001b[0m\u001b[0;34m)\u001b[0m\u001b[0;34m\u001b[0m\u001b[0m\n\u001b[0;32m---> 73\u001b[0;31m             \u001b[0msock\u001b[0m\u001b[0;34m.\u001b[0m\u001b[0mconnect\u001b[0m\u001b[0;34m(\u001b[0m\u001b[0msa\u001b[0m\u001b[0;34m)\u001b[0m\u001b[0;34m\u001b[0m\u001b[0m\n\u001b[0m\u001b[1;32m     74\u001b[0m             \u001b[0;32mreturn\u001b[0m \u001b[0msock\u001b[0m\u001b[0;34m\u001b[0m\u001b[0m\n\u001b[1;32m     75\u001b[0m \u001b[0;34m\u001b[0m\u001b[0m\n",
      "\u001b[0;31mKeyboardInterrupt\u001b[0m: "
     ]
    }
   ],
   "source": [
    "from urllib import request  \n",
    "from bs4 import BeautifulSoup  \n",
    "import requests  \n",
    "import json  \n",
    "import re  \n",
    "from urllib import parse \n",
    "\n",
    "\n",
    "#先爬取热门歌手ID\n",
    "a_headers = {\"User-Agent\": \"Mozilla/5.0 (Macintosh; Intel Mac OS X 10_13_4) AppleWebKit/605.1.15 (KHTML, like Gecko) Version/11.1 Safari/605.1.15\"  \n",
    "           ,\"Referer\": \"http://music.163.com/discover/artist\"  \n",
    "           ,\"Origin\": \"http://music.163.com\"  \n",
    "           ,\"Host\":\"music.163.com\"  \n",
    "           ,\"Cookie\":\"__utma=94650624.524401346.1510795658.1524743844.1524747113.5; __utmb=94650624.37.10.1524747113; __utmc=94650624; __utmz=94650624.1512478395.2.2.utmcsr=baidu|utmccn=(organic)|utmcmd=organic; JSESSIONID-WYYY=vuk1mFto7DT8F7T6Xks5jZIOI85%2FzTYeHVA%2BWmHD8Zvtiy7FpacVO%5CNpwi%2BVl6U2FRgwUS1bsXgJfU8nrax8zWUxPhBHH8FcfTZjTIxNsY%2FYKivRq22jl65Veqgm0%2BOMiUfmCzxAbMx%2B1UxMqxoUFX1i%2B2kyaGYsfNY%2F1fUw%2FZ32WN7S%3A1524750868394; _iuqxldmzr_=32; WM_TID=Y4lloxguEnAGAGsQVYpDIq4rsdf8OYWU; vinfo_n_f_l_n3=dfacc2c3dca3a054.1.4.1510645015480.1521790673505.1523978281247; vjlast=1510645015.1523978266.12; P_INFO=m13242807107_1@163.com|1523502779|0|urs|00&99|gud&1523163396&mobilemail#gud&440100#10#0#0|&0|mobilemail|m13242807107_1@163.com; _ngd_tid=egOaatuziU0o2o48waZBb5Vs4aFi9Jdp; _ga=GA1.2.463885733.1512733624; __utma=187553192.463885733.1512733624.1514088297.1514088297.1; __utmz=187553192.1514088297.1.1.utmcsr=v.163.com|utmccn=(referral)|utmcmd=referral|utmcct=/special/positivepsychology/; usertrack=ezq0ploqe7Vn9foqB0vDAg==; __gads=ID=e1adaae4fa733fc5:T=1510645013:S=ALNI_Mbq4QIdknEUszE2GBe5Wm7F-nGfXw; _ntes_nnid=70d1039a4031d0bef3e8642d7ac4e310,1510645015721; _ntes_nuid=70d1039a4031d0bef3e8642d7ac4e310; vjuids=789ce4376.15fb975a390.0.b01d3e022c1008; UM_distinctid=15fb9759f315bc-0da7d9adbd6397-6c2c2e4b-fa000-15fb9759f324ab\"  \n",
    "           ,\"Content-Type\":\"application/x-www-form-urlencoded\"  \n",
    "           ,\"Content-Length\":\"412\"  \n",
    "           ,\"Connection\":\"keep-alive\"  \n",
    "           ,\"Accept-Language\":\"zh-cn\"  \n",
    "           ,\"Accept\":\"*/*\"}\n",
    "s_url=\"http://music.163.com/artist\"  \n",
    "headers = {\"User-Agent\": \"Mozilla/5.0 (Windows NT 10.0; Win64; x64) AppleWebKit/537.36 (KHTML, like Gecko) Chrome/64.0.3282.140 Safari/537.36\"} \n",
    "\n",
    "\n",
    "def artist_id():  \n",
    "    url=\"http://music.163.com/weapi/artist/top?csrf_token=\"  \n",
    "    data={\"params\":\"q1njkyEPDrJ+FJZzXB7YHkz1+CG29aJAXnlSVERxZjF2pcZkUgeRQD7mYQGB2NEvuirDrX/p+Yc4xhadtCFo/XuXZLsr0a8NlYf2Nsxs0TB1hfWc9zRtEa8smECMxbpN\",  \n",
    "          \"encSecKey\":\"d3df887c50dffc6d09a71abe9fd76d1bc4065e44315609c4feec16fd14707eb2ec67acb75c8093150c95f199832dd38f5528ae805d6b29db8f485435a3a7117dad0cfe6fe327f13c88cbbae9ceebdd9378d375ecbcbdca89fb8f82dd26a5b7281fe1cee68dfd9486636fd217f8eaeb34080131a6acd9586d19aa36386708c9e6\"}  \n",
    "    #这次不用requests.post()，而用Requests和urlopen解析歌手页面的POST，虽然麻烦点但是两种方法都熟悉一下。\n",
    "    post_data = parse.urlencode(data).encode(\"utf-8\")  \n",
    "    req=request.Request(url=url,headers=a_headers)  \n",
    "    res=request.urlopen(req,post_data)  \n",
    "    html=res.read().decode(\"utf-8\")  \n",
    "    #解析所返回的JSON数据  \n",
    "    a_data=json.loads(html)  \n",
    "    a_list=a_data[\"artists\"]#刚刚观察返回数据可以知道歌手的信息储存在artists键中  \n",
    "    id_list=[]#用一个列表储存所有歌手的id和name  \n",
    "    for i in range(len(a_list)):  \n",
    "        a_dict = {}#用一个字典储存一个歌手的id和name  \n",
    "        a_dict[\"name\"]=a_list[i][\"name\"]  \n",
    "        a_dict[\"id\"]=a_list[i][\"id\"]  \n",
    "        id_list.append(a_dict)  \n",
    "    return id_list \n",
    "\n",
    "\n",
    "#再爬取每个歌手的歌曲ID\n",
    "def song_id(artist_id):  \n",
    "    data={\"id\":artist_id}#将歌手ID作为params参数传入requests.get()方法  \n",
    "    req=requests.get(url=s_url,headers=headers,params=data)  \n",
    "    req.encoding=\"utf-8\"  \n",
    "    soup=BeautifulSoup(req.text,\"lxml\")#对返回的数据进行解析  \n",
    "    song_list=soup.find_all(\"ul\",class_=\"f-hide\")#找到class=\"f-hide\"的<ul>标签  \n",
    "    song_soup=BeautifulSoup(str(song_list),\"lxml\")#将<ul>......</ul>再解析一次，以便使用find_all()方法把所有<a>标签取出来  \n",
    "    song_list=song_soup.find_all(\"a\")  \n",
    "    id_list=[]#存歌曲ID  \n",
    "    name_list=[]#存歌名  \n",
    "    for each in song_list:  \n",
    "        s_id=each.get(\"href\")#歌曲ID在<a>标签href属性中  \n",
    "        s_name=each.string  \n",
    "        s=re.findall(r\"\\d+\",s_id)#用正则找到href中的ID  \n",
    "        id_list.append(s[0])#由于re.findall()返回的是一个列表，所以用下标将ID取出  \n",
    "        name_list.append(s_name)  \n",
    "    return id_list,name_list \n",
    "\n",
    "\n",
    "#最后得到每首歌的评论数量\n",
    "def comment_count(song_id):  \n",
    "    url=\"http://music.163.com/weapi/v1/resource/comments/R_SO_4_\"+song_id+\"?csrf_token=\"  \n",
    "    data = {  \n",
    "        \"params\": \"j3X2DhLnQqVCgm6VJGe4OT/eQQvjWqPFPmIpAi0lZJGq8hAoELgnjUBBiOqlVx1DvozvOSWr/xkBGosm5lZOIAgioQMQhU77tUibYkOYqJ55sK2c9yBCM5ZkHtBSfAbPb3RBCg4Ps8XNZTGTcw3obZs5l3vQQQLlBVP8jBDTqVBsLLR5gWUzz5x/wnqrLnmq\",  \n",
    "        \"encSecKey\": \"8547739fd6a23087e9b63e003646f65471e9bae3854852f486e28899ba2a556792312d788e9fbf121bceb77c90abf432b38d21f4c157c980616b65c31e9b1f7a8a0eda737296125f5a3d1cb2d660671818636ef7c9543a97cb76f3cddf5d6ebc9d090cda5d60719b1d16d30a6f656a321bd9d491486d6d8e549b7ae2af8b74ba\"}  \n",
    "    #用requests.post()解析这个POST\n",
    "    req=requests.post(url=url,headers=headers,data=data)  \n",
    "    req.encoding=\"utf-8\"  \n",
    "    comment= json.loads(req.text)  \n",
    "    return comment[\"total\"] \n",
    "\n",
    "\n",
    "if __name__==\"__main__\":  \n",
    "    f=open(\"网易云评论.txt\",\"w\",encoding=\"utf-8\")  \n",
    "    id_list=artist_id()  #artist_id()是一个list\n",
    "    for artist in id_list:  \n",
    "        total=0  \n",
    "        f.write(\"\\n\\n\"+artist[\"name\"]+\"热门歌曲以及评论数：\")  \n",
    "        song_id_list,name_list=song_id(artist[\"id\"])  #song_id(artist_id)是先前定义的函数，这里的artist_id由artist[\"id\"]给出（for artist in id_list说明artist是id_list的元素）\n",
    "        for i in range(len(song_id_list)):  \n",
    "            if(name_list[i]!=None):#！！！这个地方一定要注意，下面会做说明  \n",
    "                total+=comment_count(song_id_list[i])  \n",
    "                f.write(name_list[i]+\":\"+str(comment_count(song_id_list[i]))+\"条\")  \n",
    "        f.write(\"总计：\"+str(total)+\"条\")  \n",
    "        print(artist[\"name\"]+\"网易云音乐热门歌曲总评论数：\"+str(total)+\"条\")  \n",
    "    print(\"抓取完毕！\") "
   ]
  },
  {
   "cell_type": "code",
   "execution_count": null,
   "metadata": {},
   "outputs": [],
   "source": []
  }
 ],
 "metadata": {
  "kernelspec": {
   "display_name": "Python 3",
   "language": "python",
   "name": "python3"
  },
  "language_info": {
   "codemirror_mode": {
    "name": "ipython",
    "version": 3
   },
   "file_extension": ".py",
   "mimetype": "text/x-python",
   "name": "python",
   "nbconvert_exporter": "python",
   "pygments_lexer": "ipython3",
   "version": "3.6.5"
  }
 },
 "nbformat": 4,
 "nbformat_minor": 2
}
